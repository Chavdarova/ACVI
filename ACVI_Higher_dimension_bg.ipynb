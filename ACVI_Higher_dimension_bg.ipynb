{
  "cells": [
    {
      "cell_type": "markdown",
      "source": [
        "# High dimensional bilinear game on the simplex\n",
        "\n",
        "Results on the following constrained bilinear game, where $\\mathbf{x}_1, \\mathbf{x}_2 \\in \\mathbb{R}^{500}$, and $\\eta \\in (0,1)$:\n",
        "\n",
        "$ \n",
        "min_{\\mathbf{x}_1} max_{\\mathbf{x}_2} \\quad \\eta \\cdot \\mathbf{x}_1^\\intercal + (1-\\eta) \\cdot \\mathbf{x}_1^\\intercal \\mathbf{x}_2 - \\eta \\cdot \\mathbf{x}_2^\\intercal \\mathbf{x}_2\n",
        "$\n",
        "\n",
        "$\n",
        "\\hspace{2em} \\text{s.t.} \\qquad \\mathbf{x} \\geq \\mathbf{0}\n",
        "$\n",
        "\n",
        "$\n",
        "\\hspace{5em} \\mathbf{e}^\\intercal \\mathbf{x}_1 = 1\n",
        "$\n",
        "\n",
        "$\n",
        "\\hspace{5em} \\mathbf{e}^\\intercal \\mathbf{x}_2 = 1\n",
        "$"
      ],
      "metadata": {
        "id": "_GkYPL_Y3C1l"
      }
    },
    {
      "cell_type": "code",
      "source": [
        "#@title install latex for plots description\n",
        "! sudo apt install texlive-latex-extra\n",
        "! sudo apt install dvipng\n",
        "! sudo apt-get install texlive-full"
      ],
      "metadata": {
        "cellView": "form",
        "id": "bjpSpMxL3CLo"
      },
      "execution_count": null,
      "outputs": []
    },
    {
      "cell_type": "code",
      "execution_count": 1,
      "metadata": {
        "id": "M3dAiwtRbbO0",
        "colab": {
          "base_uri": "https://localhost:8080/"
        },
        "cellView": "form",
        "outputId": "6210775a-4cc4-4287-847c-e594cd12bc54"
      },
      "outputs": [
        {
          "output_type": "stream",
          "name": "stdout",
          "text": [
            "Init [[0.00221029]\n",
            " [0.00288036]]\n"
          ]
        }
      ],
      "source": [
        "#@title problem setup\n",
        "import numpy as np\n",
        "import scipy.optimize as opt\n",
        "from scipy import linalg\n",
        "import matplotlib.pyplot as plt\n",
        "from cvxopt import matrix,solvers\n",
        "solvers.options['show_progress'] = False\n",
        "\n",
        "eps = .02\n",
        "dim = 500  # dim(x1) == dim(x2) == dim\n",
        "x_opt = np.ones((2*dim,1))/dim\n",
        "_seed = 0\n",
        "\n",
        "\n",
        "temp1 = np.concatenate((np.ones((1,dim)), np.zeros((1,dim))),axis=1)\n",
        "temp2 = np.concatenate((np.zeros((1,dim)), np.ones((1,dim))),axis=1)\n",
        "C = np.concatenate((temp1,temp2), axis=0)\n",
        "d = np.ones((2,1))\n",
        "temp = np.linalg.inv(np.dot(C, C.T))\n",
        "temp = np.dot(C.T, temp)\n",
        "dc = np.dot(temp, d)\n",
        "Pc = np.identity(2*dim) - np.dot(temp,C)\n",
        "\n",
        "G = matrix(-np.identity(2*dim), tc='d')\n",
        "h = matrix(np.zeros(((2*dim,1))), tc='d')\n",
        "AA = matrix(C, tc='d')\n",
        "b = matrix(d, tc='d')\n",
        "\n",
        "def f_y(y,c,mu): \n",
        "  \"\"\" Update y in Alg. ACVI. \"\"\"\n",
        "  return -mu * np.sum(np.log(y)) + beta/2 * np.sum((y-c)**2)\n",
        "\n",
        "def proj(z):\n",
        "  P = matrix(np.identity(2*dim), tc='d')\n",
        "  q = matrix(-z, tc='d')\n",
        "  res = solvers.qp(P, q, G, h, AA, b)\n",
        "  return res['x']\n",
        "\n",
        "np.random.seed(_seed)\n",
        "init = np.random.rand(2*dim, 1)\n",
        "init[:dim] = init[:dim] / np.sum(init[:dim])\n",
        "init[dim:] = init[dim:] / np.sum(init[dim:])\n",
        "\n",
        "print('Init {}'.format(init[:2]))"
      ]
    },
    {
      "cell_type": "markdown",
      "source": [
        "## For fixed $\\epsilon$ and varying rotation component $\\eta$ ($x$-axis), compute number of iterations ($y$-axis) needed to be at most $\\epsilon$ far away from the solution"
      ],
      "metadata": {
        "id": "BBhOhgFJ16Oy"
      }
    },
    {
      "cell_type": "code",
      "source": [
        "from numpy.core.arrayprint import format_float_scientific\n",
        "\n",
        "eps = .02\n",
        "gamma = .3  # step-size for EG, OGDA, LA\n",
        "max_iters = 500\n",
        "T, K = 10, 1\n",
        "last_K = max_iters - (T-1) * K\n",
        "n = (T-1) * K + last_K\n",
        "num_acvi, num_gda, num_eg, num_la, num_ogda = [], [], [], [], []  \n",
        "rot = np.linspace(.01, .99, 5)  #  rot = np.linspace(.01, .99, 30) \n",
        "\n",
        "for a in rot:\n",
        "  A1 = np.concatenate((a*np.identity(dim), (1-a)*np.identity(dim)), axis=1)\n",
        "  A2 = np.concatenate((-(1-a)*np.identity(dim), a*np.identity(dim)), axis=1)\n",
        "  A = np.concatenate((A1, A2), axis=0)\n",
        "\n",
        "  # ACVI ------------\n",
        "  beta, mu, delta = .5, 1e-6, .5\n",
        "  y, lmd = init, np.zeros(((2*dim,1)))\n",
        "  finished, cnt = False, 0\n",
        "  for t in range(0, T):\n",
        "    mu *= delta\n",
        "    flag = 1\n",
        "    for k in range(0, K if t+1 < T else last_K):\n",
        "      cnt += 1\n",
        "      x = linalg.solve(np.identity(2*dim) + np.dot(Pc,A)/beta,\n",
        "                       np.dot(Pc, y-lmd/beta) + dc)\n",
        "      if np.linalg.norm(x-x_opt)/np.linalg.norm(x_opt) <= eps or \\\n",
        "         cnt == max_iters:\n",
        "        finished = True\n",
        "        num_acvi.append(cnt)\n",
        "        break\n",
        "      res = opt.minimize(lambda z: f_y(z,x+lmd/beta,mu), y, method='SLSQP')\n",
        "      if not res.success:\n",
        "        print('Failed to update y. t={}. k={}'.format(t, k))\n",
        "        flag = 0\n",
        "        break\n",
        "      y = res.x.reshape(-1,1)\n",
        "      lmd += beta*(x-y)\n",
        "    if flag == 0 or finished:\n",
        "      break\n",
        "\n",
        "  # GDA ------------\n",
        "  z = np.copy(init)\n",
        "  for t in range(n):\n",
        "    z = proj(z - gamma * np.dot(A,z))\n",
        "    if np.linalg.norm(z-x_opt)/np.linalg.norm(x_opt) <= eps or t+1 >= max_iters:\n",
        "      num_gda.append(t+1)\n",
        "      break\n",
        "\n",
        "  # EG ------------\n",
        "  z = np.copy(init)\n",
        "  for t in range(n):\n",
        "    zz = proj(z-gamma*np.dot(A,z))\n",
        "    z = proj(z-gamma*np.dot(A,zz))\n",
        "    if np.linalg.norm(z-x_opt)/np.linalg.norm(x_opt) <= eps or \\\n",
        "       (t+1)*2 >= max_iters:\n",
        "      num_eg.append(2*(t+1))\n",
        "      break\n",
        "\n",
        "  # OGDA ------------\n",
        "  z0 = np.copy(init)\n",
        "  z1 = np.copy(init)\n",
        "  for t in range(n):\n",
        "    z = proj(z1 - 2*gamma*np.dot(A,z1) + gamma*np.dot(A,z0))\n",
        "    z0 = np.copy(z1)\n",
        "    z1 = np.copy(z)\n",
        "    if np.linalg.norm(z-x_opt) / np.linalg.norm(x_opt) <= eps or \\\n",
        "       t+1 >= max_iters:\n",
        "      num_ogda.append(t+1)\n",
        "      break\n",
        "\n",
        "  # LA ------------\n",
        "  z = np.copy(init)\n",
        "  la_k, la_alpha = 5, 0.5\n",
        "  for t in range(n):\n",
        "    z_old = np.copy(z)\n",
        "    for _ in range(la_k):\n",
        "      #z = z - gamma * np.dot(A,z)\n",
        "      z = proj( z - gamma * np.dot(A, z))\n",
        "    z = proj(la_alpha * z_old + (1-la_alpha) * z)\n",
        "    if np.linalg.norm(z - x_opt) / np.linalg.norm(x_opt) <= eps or \\\n",
        "       (t+1) * la_k >= max_iters:\n",
        "      num_la.append(min(la_k*(t+1), max_iters))\n",
        "      break"
      ],
      "metadata": {
        "id": "6OZBWWsDEU9n"
      },
      "execution_count": null,
      "outputs": []
    },
    {
      "cell_type": "code",
      "source": [
        "ms = 3\n",
        "print('GDA:    {}'.format(num_gda))\n",
        "print('EG:     {}'.format(num_eg))\n",
        "print('OGDA:   {}'.format(num_ogda))\n",
        "print('LA-GDA: {}'.format(num_la))\n",
        "print('ACVI:   {}'.format(num_acvi))\n",
        "\n",
        "plt.plot(rot, num_gda, 'ys-', label='GDA', markersize=ms)\n",
        "plt.plot(rot, num_eg, 'ch-', label='EG', markersize=ms)\n",
        "plt.plot(rot, num_ogda, 'mD-',label='OGDA', markersize=ms)\n",
        "plt.plot(rot, num_la, 'bo-', label='LA{}-GDA'.format(la_k), markersize=ms)\n",
        "plt.plot(rot, num_acvi, 'gv-', label='ACVI', markersize=ms)\n",
        "plt.xlabel(r'$\\eta$')\n",
        "plt.ylabel('number of iterations')\n",
        "plt.legend(loc=\"upper right\")\n",
        "plt.savefig('acvi_hd_bilinear_eta.pdf', bbox_inches='tight')\n",
        "plt.show()"
      ],
      "metadata": {
        "colab": {
          "base_uri": "https://localhost:8080/",
          "height": 370
        },
        "id": "_amS4pZuEne9",
        "outputId": "301a5c22-16e3-4b5a-a4f1-ebee0c6e2355"
      },
      "execution_count": null,
      "outputs": [
        {
          "output_type": "stream",
          "name": "stdout",
          "text": [
            "GDA:    [500, 66, 23, 14, 10]\n",
            "EG:     [150, 64, 44, 36, 30]\n",
            "OGDA:   [63, 32, 23, 17, 14]\n",
            "LA-GDA: [95, 60, 45, 40, 35]\n",
            "ACVI:   [18, 9, 6, 6, 5]\n"
          ]
        },
        {
          "output_type": "display_data",
          "data": {
            "text/plain": [
              "<Figure size 432x288 with 1 Axes>"
            ],
            "image/png": "[encoded data removed]"
          },
          "metadata": {
            "needs_background": "light"
          }
        }
      ]
    },
    {
      "cell_type": "markdown",
      "source": [
        "## For fixed rotation $\\eta=.05$ and varying CPU time ($x$-axis), compute relative error ($y$-axis)"
      ],
      "metadata": {
        "id": "R4VL4ldh3dlu"
      }
    },
    {
      "cell_type": "code",
      "source": [
        "import time\n",
        "\n",
        "aa = .05\n",
        "max_iters = 5000\n",
        "T, K = 10, 1\n",
        "last_K = max_iters - (T-1) * K\n",
        "n = (T-1) * K + last_K\n",
        "la_k, la_alpha = 5, .5  # hyperparameters for LA-GDA \n",
        "gamma = .1  # step-size for GDA, EG, OGDA, LA-GDA\n",
        "A1 = np.concatenate((aa*np.identity(dim), (1-aa)*np.identity(dim)), axis=1)\n",
        "A2 = np.concatenate((-(1-aa)*np.identity(dim), aa*np.identity(dim)), axis=1)\n",
        "A = np.concatenate((A1,A2), axis=0)\n",
        "\n",
        "# tm = [60, 90, 120, 150, 180, 210, 240, 270]\n",
        "tm = [60, 180, 270]\n",
        "eps_acvi, eps_gda, eps_eg, eps_ogda, eps_lak = [], [], [], [], []\n",
        "\n",
        "for dt in tm:\n",
        "  # ACVI ------------\n",
        "  t0 = time.time()\n",
        "  timesup = False\n",
        "  beta, mu, delta = .5, 1e-7, .5\n",
        "  y, lmd = init, np.zeros(((2*dim,1)))\n",
        "  for t in range(T):\n",
        "    mu *= delta\n",
        "    flag = 1\n",
        "    for k in range(K if t+1<T else last_K):\n",
        "      x = linalg.solve(np.identity(2*dim)+np.dot(Pc,A)/beta,np.dot(Pc,y-lmd/beta)+dc)\n",
        "      res = opt.minimize(lambda z: f_y(z,x+lmd/beta,mu), y, method='SLSQP', jac=None)\n",
        "      if not res.success:\n",
        "        print('Failed to update y. t={}. k={}'.format(t,k))\n",
        "        flag = 0\n",
        "        break\n",
        "      y = res.x.reshape(-1,1)\n",
        "      lmd += beta*(x-y)\n",
        "      if time.time()-t0 >= dt:\n",
        "        eps_acvi.append(np.linalg.norm(x-x_opt)/np.linalg.norm(x_opt))\n",
        "        timesup = True\n",
        "        break\n",
        "    if flag == 0 or timesup:\n",
        "      break\n",
        "  \n",
        "\n",
        "  # GDA ------------\n",
        "  z = np.copy(init)\n",
        "  t0 = time.time()\n",
        "  for t in range(n):\n",
        "    z = proj(z - gamma*np.dot(A, z))\n",
        "    if time.time()-t0 >= dt:\n",
        "      # Relative error\n",
        "      eps_gda.append(np.linalg.norm(z-x_opt)/np.linalg.norm(x_opt))\n",
        "      break\n",
        "\n",
        "  # EG ------------\n",
        "  z = np.copy(init)\n",
        "  t0 = time.time()\n",
        "  for t in range(n):\n",
        "    zz = proj(z - gamma*np.dot(A, z))\n",
        "    z = proj(z - gamma*np.dot(A, zz))\n",
        "    if time.time()-t0 >= dt:\n",
        "      eps_eg.append(np.linalg.norm(z-x_opt) / np.linalg.norm(x_opt))\n",
        "      break\n",
        "\n",
        "  # OGDA ------------\n",
        "  z0 = np.copy(init)\n",
        "  z1 = np.copy(init)\n",
        "  t0 = time.time()\n",
        "  for t in range(n):\n",
        "    z = proj(z1 - 2*gamma*np.dot(A,z1) + gamma*np.dot(A,z0))\n",
        "    z0 = np.copy(z1) \n",
        "    z1 = np.copy(z0) \n",
        "    if time.time()- t0 >= dt:\n",
        "      eps_ogda.append(np.linalg.norm(z-x_opt) / np.linalg.norm(x_opt))\n",
        "      break\n",
        "\n",
        "  # LA5-GDA ------------\n",
        "  z = np.copy(init)\n",
        "  t0 = time.time()\n",
        "  for t in range(n):\n",
        "    z_old = z\n",
        "    for _ in range(la_k):\n",
        "      z = proj(z - gamma*np.dot(A,z))\n",
        "    z = proj(la_alpha * z_old + (1-la_alpha) * z)\n",
        "    if time.time() - t0 >= dt:\n",
        "      eps_lak.append(np.linalg.norm(z-x_opt)/np.linalg.norm(x_opt))\n",
        "      break"
      ],
      "metadata": {
        "id": "bzcBqhO8xQry"
      },
      "execution_count": null,
      "outputs": []
    },
    {
      "cell_type": "code",
      "source": [
        "ms = 3\n",
        "print('CPU-time: {}'.format(tm))\n",
        "print('GDA:      {}'.format(eps_gda))\n",
        "print('EG:       {}'.format(eps_eg))\n",
        "print('OGDA:     {}'.format(eps_ogda))\n",
        "print('LA{}-GDA:  {}'.format(la_k, eps_lak))\n",
        "print('ACVI:     {}'.format(eps_acvi))\n",
        "\n",
        "plt.plot(tm,eps_gda,'ys-', label='GDA', markersize=ms)\n",
        "plt.plot(tm,eps_eg,'ch-', label='EG', markersize=ms)\n",
        "plt.plot(tm,eps_ogda,'mD-', label='OGDA', markersize=ms)\n",
        "plt.plot(tm,eps_lak,'bo-', label='LA{}-GDA'.format(la_k), markersize=ms)\n",
        "plt.plot(tm,eps_acvi,'gv-', label='ACVI', markersize=ms) \n",
        "plt.legend(loc='upper right')\n",
        "plt.xlabel('cpu time (s)')\n",
        "plt.ylabel('relative error')\n",
        "plt.yscale('log')\n",
        "plt.savefig('acvi_hd_bilinear_relErr_vs_time.pdf', bbox_inches='tight')\n",
        "plt.show()"
      ],
      "metadata": {
        "colab": {
          "base_uri": "https://localhost:8080/",
          "height": 391
        },
        "id": "16AOAFRIh5ne",
        "outputId": "f2b70acc-d81f-4204-8807-9075cf57122c"
      },
      "execution_count": 24,
      "outputs": [
        {
          "output_type": "stream",
          "name": "stdout",
          "text": [
            "CPU-time: [60, 180, 270]\n",
            "GDA:      [0.5145986619628568, 0.43888856687104627, 0.3961038745965842]\n",
            "EG:       [0.3012852130692706, 0.08117955504120694, 0.03117351039238496]\n",
            "OGDA:     [0.5848684785035604, 0.5848684785035604, 0.5848684785035604]\n",
            "LA5-GDA:  [0.28825187323310963, 0.07110590692614277, 0.026617190845794735]\n",
            "ACVI:     [0.02904948188322766, 0.00016789817370326595, 4.061120650482063e-06]\n"
          ]
        },
        {
          "output_type": "display_data",
          "data": {
            "text/plain": [
              "<Figure size 432x288 with 1 Axes>"
            ],
            "image/png": "[encoded data removed]"
          },
          "metadata": {
            "needs_background": "light"
          }
        }
      ]
    },
    {
      "cell_type": "markdown",
      "source": [
        "## For fixed rotation $\\eta=.05$ and varying relative error ($x$-axis), compute CPU time ($y$-axis)"
      ],
      "metadata": {
        "id": "L2FDRl8G3c9R"
      }
    },
    {
      "cell_type": "code",
      "execution_count": 25,
      "metadata": {
        "id": "ALte7iV5x1Bh"
      },
      "outputs": [],
      "source": [
        "import time\n",
        "\n",
        "aa = .05\n",
        "max_cpu_time = 1500  # in sec\n",
        "max_iters = 3000\n",
        "T, K = 10, 1\n",
        "last_K = max_iters - (T-1) * K\n",
        "n = (T-1) * K + last_K\n",
        "la_k, la_alpha = 5, .5  # hyperparameters for LA-GDA \n",
        "gamma = .1  # Step-size for GDA, EG, OGDA, LA-GDA\n",
        "A1 = np.concatenate((aa*np.identity(dim),(1-aa)*np.identity(dim)),axis=1)\n",
        "A2 = np.concatenate((-(1-aa)*np.identity(dim),aa*np.identity(dim)),axis=1)\n",
        "A = np.concatenate((A1,A2),axis=0)\n",
        "t_acvi, t_gda, t_eg, t_ogda, t_lak = [], [], [], [], []\n",
        "eps = [.5, .1, .05, .01, .001, .0005]\n",
        "\n",
        "for de in eps:\n",
        "  # ACVI ------------\n",
        "  beta, mu, delta = .5, 1e-6, .5\n",
        "  y, lmd = init,np.zeros(((2*dim,1)))\n",
        "  t0 = time.time()\n",
        "  for t in range(T):\n",
        "    mu *= delta\n",
        "    flag = 1\n",
        "    for k in range(K if t+1 < T else last_K):\n",
        "      x = linalg.solve(np.identity(2*dim)+np.dot(Pc,A)/beta,np.dot(Pc,y-lmd/beta)+dc)\n",
        "      if np.linalg.norm(x-x_opt)/np.linalg.norm(x_opt) <= de or \\\n",
        "         time.time()-t0 >= max_cpu_time:\n",
        "        flag = 0\n",
        "        t_acvi.append(time.time()-t0)\n",
        "        break\n",
        "      res = opt.minimize(lambda z: f_y(z,x+lmd/beta,mu), y, method='SLSQP', jac=None)\n",
        "      if not res.success:\n",
        "        print('Failed to update y. t={}. k={}'.format(t,k))\n",
        "        flag = 0\n",
        "        break\n",
        "      y = res.x.reshape(-1,1)\n",
        "      lmd += beta*(x-y)\n",
        "    if flag == 0:\n",
        "      break\n",
        "\n",
        "  # GDA ------------\n",
        "  z = np.copy(init)\n",
        "  t0 = time.time()\n",
        "  for t in range(n):\n",
        "    z = proj(z-gamma*np.dot(A,z))\n",
        "    if np.linalg.norm(z-x_opt) / np.linalg.norm(x_opt) <= de or \\\n",
        "        time.time()-t0 >= max_cpu_time:\n",
        "      t_gda.append(time.time()-t0)\n",
        "      break\n",
        "\n",
        "  # EG ------------\n",
        "  z = np.copy(init)\n",
        "  t0 = time.time()\n",
        "  for t in range(n):\n",
        "    zz = proj(z-gamma*np.dot(A,z))\n",
        "    z = proj(z-gamma*np.dot(A,zz))\n",
        "    if np.linalg.norm(z-x_opt)/np.linalg.norm(x_opt) <= de or \\\n",
        "        time.time()-t0 >= max_cpu_time:\n",
        "      t_eg.append(time.time()-t0)\n",
        "      break\n",
        "  # OGDA ------------\n",
        "  z0 = np.copy(init)\n",
        "  z1 = np.copy(init)\n",
        "  t0 = time.time()\n",
        "  for t in range(n):\n",
        "    z = proj(z1 - 2*gamma*np.dot(A,z1) + gamma*np.dot(A,z0))\n",
        "    z0 = np.copy(z1)\n",
        "    z1 = np.copy(z)\n",
        "    if np.linalg.norm(z-x_opt)/np.linalg.norm(x_opt) <= de or \\\n",
        "        time.time()-t0 >= max_cpu_time:\n",
        "      t_ogda.append(time.time()-t0)\n",
        "      break\n",
        "\n",
        "  # LAK-GDA ------------\n",
        "  la_k, la_alpha = 5, .5 \n",
        "  z = np.copy(init)\n",
        "  t0 = time.time()\n",
        "  for t in range(n):\n",
        "    z_old = z\n",
        "    for i in range(la_k):\n",
        "      z = proj(z-gamma*np.dot(A, z))\n",
        "    z = proj(la_alpha*z_old + (1-la_alpha)*z)\n",
        "    if np.linalg.norm(z-x_opt) / np.linalg.norm(x_opt) <= de or \\\n",
        "        time.time()-t0 >= max_cpu_time:\n",
        "      t_lak.append(time.time()-t0)\n",
        "      break"
      ]
    },
    {
      "cell_type": "code",
      "source": [
        "ms = 3\n",
        "print('GDA:      {}'.format(t_gda))\n",
        "print('EG:       {}'.format(t_eg))\n",
        "print('OGDA:     {}'.format(t_ogda))\n",
        "print('LA{}-GDA: {}'.format(la_k, t_lak))\n",
        "print('ACVI:     {}'.format(t_acvi))\n",
        "\n",
        "# plt.plot(eps, t_gda, 'ys-', label='GDA', markersize=ms) <- GDA too slow\n",
        "plt.plot(eps, t_eg, 'ch-', label='EG', markersize=ms)\n",
        "plt.plot(eps, t_ogda, 'mD-', label='OGDA', markersize=ms)\n",
        "plt.plot(eps, t_lak, 'bo-', label='LA{}-GDA'.format(la_k), markersize=ms)\n",
        "plt.plot(eps, t_acvi, 'gv-', label='ACVI', markersize=ms)\n",
        "plt.xscale('log')\n",
        "plt.xlabel('relative error')\n",
        "plt.ylabel('cpu time (s)')\n",
        "plt.legend(loc='upper right')\n",
        "plt.savefig('acvi_hd_bilinear_time_vs_relErr.pdf', bbox_inches='tight')\n",
        "plt.show()"
      ],
      "metadata": {
        "id": "3QGVmddj5Lq8",
        "colab": {
          "base_uri": "https://localhost:8080/",
          "height": 372
        },
        "outputId": "208fd1b3-2315-4277-9b80-31637c4e1a24"
      },
      "execution_count": 31,
      "outputs": [
        {
          "output_type": "stream",
          "name": "stdout",
          "text": [
            "GDA:      [78.64775919914246]\n",
            "EG:       [15.134716033935547, 161.77575206756592, 226.96552443504333, 376.7856979370117, 587.2638783454895, 656.7127356529236]\n",
            "OGDA:     [7.774897813796997, 84.55064845085144, 116.01626467704773, 194.55628848075867, 293.76169443130493, 329.068234205246]\n",
            "LA5-GDA: [14.562126159667969, 157.92764544487, 218.11382746696472, 357.96415185928345, 564.7706151008606, 627.1676275730133]\n",
            "ACVI:     [0.13395404815673828, 33.48216962814331, 47.89238142967224, 78.29657125473022, 125.12867450714111, 140.62643718719482]\n"
          ]
        },
        {
          "output_type": "display_data",
          "data": {
            "text/plain": [
              "<Figure size 432x288 with 1 Axes>"
            ],
            "image/png": "[encoded data removed]"
          },
          "metadata": {
            "needs_background": "light"
          }
        }
      ]
    }
  ],
  "metadata": {
    "colab": {
      "collapsed_sections": [],
      "name": "ACVI_Higher_dimension_bg.ipynb",
      "provenance": [],
      "toc_visible": true
    },
    "kernelspec": {
      "display_name": "Python 3",
      "name": "python3"
    },
    "language_info": {
      "name": "python"
    }
  },
  "nbformat": 4,
  "nbformat_minor": 0
}